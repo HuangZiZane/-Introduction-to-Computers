{
  "nbformat": 4,
  "nbformat_minor": 0,
  "metadata": {
    "colab": {
      "name": "串列作業409667028 黃子珍.ipynb",
      "provenance": [],
      "authorship_tag": "ABX9TyM2Cc+C0INshKTg7/ZbFzWa",
      "include_colab_link": true
    },
    "kernelspec": {
      "name": "python3",
      "display_name": "Python 3"
    },
    "language_info": {
      "name": "python"
    }
  },
  "cells": [
    {
      "cell_type": "markdown",
      "metadata": {
        "id": "view-in-github",
        "colab_type": "text"
      },
      "source": [
        "<a href=\"https://colab.research.google.com/github/HuangZiZane/-Introduction-to-Computers/blob/main/%E4%B8%B2%E5%88%97%E4%BD%9C%E6%A5%AD409667028_%E9%BB%83%E5%AD%90%E7%8F%8D.ipynb\" target=\"_parent\"><img src=\"https://colab.research.google.com/assets/colab-badge.svg\" alt=\"Open In Colab\"/></a>"
      ]
    },
    {
      "cell_type": "code",
      "execution_count": 22,
      "metadata": {
        "colab": {
          "base_uri": "https://localhost:8080/"
        },
        "id": "odkaJJA-iUiM",
        "outputId": "3f19ecb1-3498-40d1-a55a-6ae1fe9ad2ab"
      },
      "outputs": [
        {
          "output_type": "stream",
          "name": "stdout",
          "text": [
            "金州勇士現在有的球員陣容= ['Curry', 'Green', 'Wiggins', 'Looney', 'Thompson']\n",
            "勇士今天最高的三個得分 [30, 28, 22] 球員分別為 ['Curry','Wiggins','Thompson']\n",
            "勇士今天最低的兩個得分 [5, 6] 球員分別為 ['Green','Looney']\n",
            "勇士今天最高得分為 Curry 分數為 30 分\n",
            "勇士今天最低得分為 Green 分數為 5 分\n"
          ]
        }
      ],
      "source": [
        "import heapq\n",
        "Player=['Curry','Green','Wiggins','Looney','Thompson']\n",
        "Fraction = [30,5,22,6,28]\n",
        "print(\"金州勇士現在有的球員陣容=\",Player)\n",
        "print(\"勇士今天最高的三個得分\",heapq.nlargest(3, Fraction),\"球員分別為\",\"['Curry','Wiggins','Thompson']\") \n",
        "print(\"勇士今天最低的兩個得分\",heapq.nsmallest(2, Fraction),\"球員分別為\",\"['Green','Looney']\") \n",
        "print(\"勇士今天最高得分為\",\"Curry\",\"分數為\",max(Fraction),\"分\")\n",
        "print(\"勇士今天最低得分為\",\"Green\",\"分數為\",min(Fraction),\"分\")"
      ]
    },
    {
      "cell_type": "code",
      "source": [
        ""
      ],
      "metadata": {
        "id": "7qrE3sjEj3EZ"
      },
      "execution_count": null,
      "outputs": []
    }
  ]
}