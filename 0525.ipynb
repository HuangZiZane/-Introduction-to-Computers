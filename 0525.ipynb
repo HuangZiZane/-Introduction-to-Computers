{
  "nbformat": 4,
  "nbformat_minor": 0,
  "metadata": {
    "colab": {
      "name": "0525.ipynb",
      "provenance": [],
      "authorship_tag": "ABX9TyMjPu8314WGHdSAdG8hK4rP",
      "include_colab_link": true
    },
    "kernelspec": {
      "name": "python3",
      "display_name": "Python 3"
    },
    "language_info": {
      "name": "python"
    }
  },
  "cells": [
    {
      "cell_type": "markdown",
      "metadata": {
        "id": "view-in-github",
        "colab_type": "text"
      },
      "source": [
        "<a href=\"https://colab.research.google.com/github/HuangZiZane/-Introduction-to-Computers/blob/main/0525.ipynb\" target=\"_parent\"><img src=\"https://colab.research.google.com/assets/colab-badge.svg\" alt=\"Open In Colab\"/></a>"
      ]
    },
    {
      "cell_type": "code",
      "execution_count": 5,
      "metadata": {
        "colab": {
          "base_uri": "https://localhost:8080/"
        },
        "id": "OW2aHjpfxyt2",
        "outputId": "c7b2081d-25cd-4831-e75b-5b3f813466aa"
      },
      "outputs": [
        {
          "output_type": "stream",
          "name": "stdout",
          "text": [
            "請輸入一個正整數：50\n",
            "1到 50 的整數和為： 1275\n"
          ]
        }
      ],
      "source": [
        "sum=0\n",
        "test=int(input(\"請輸入一個正整數：\"))\n",
        "for n in range(1,test+1):\n",
        "  sum=sum+n\n",
        "print(\"1到\",test,\"的整數和為：\",sum)"
      ]
    },
    {
      "cell_type": "code",
      "source": [
        "sum=0\n",
        "test=int(input(\"請輸入一個正整數：\"))\n",
        "for m in range(1,test+1):\n",
        "  sum=sum+n\n",
        "  print(\"1到\",str(m),\"的整數和為：\",sum)"
      ],
      "metadata": {
        "colab": {
          "base_uri": "https://localhost:8080/"
        },
        "id": "99Dl934NyoC9",
        "outputId": "f4952d66-081f-4305-daba-a4d91993e0dc"
      },
      "execution_count": 7,
      "outputs": [
        {
          "output_type": "stream",
          "name": "stdout",
          "text": [
            "請輸入一個正整數：50\n",
            "1到 1 的整數和為： 50\n",
            "1到 2 的整數和為： 100\n",
            "1到 3 的整數和為： 150\n",
            "1到 4 的整數和為： 200\n",
            "1到 5 的整數和為： 250\n",
            "1到 6 的整數和為： 300\n",
            "1到 7 的整數和為： 350\n",
            "1到 8 的整數和為： 400\n",
            "1到 9 的整數和為： 450\n",
            "1到 10 的整數和為： 500\n",
            "1到 11 的整數和為： 550\n",
            "1到 12 的整數和為： 600\n",
            "1到 13 的整數和為： 650\n",
            "1到 14 的整數和為： 700\n",
            "1到 15 的整數和為： 750\n",
            "1到 16 的整數和為： 800\n",
            "1到 17 的整數和為： 850\n",
            "1到 18 的整數和為： 900\n",
            "1到 19 的整數和為： 950\n",
            "1到 20 的整數和為： 1000\n",
            "1到 21 的整數和為： 1050\n",
            "1到 22 的整數和為： 1100\n",
            "1到 23 的整數和為： 1150\n",
            "1到 24 的整數和為： 1200\n",
            "1到 25 的整數和為： 1250\n",
            "1到 26 的整數和為： 1300\n",
            "1到 27 的整數和為： 1350\n",
            "1到 28 的整數和為： 1400\n",
            "1到 29 的整數和為： 1450\n",
            "1到 30 的整數和為： 1500\n",
            "1到 31 的整數和為： 1550\n",
            "1到 32 的整數和為： 1600\n",
            "1到 33 的整數和為： 1650\n",
            "1到 34 的整數和為： 1700\n",
            "1到 35 的整數和為： 1750\n",
            "1到 36 的整數和為： 1800\n",
            "1到 37 的整數和為： 1850\n",
            "1到 38 的整數和為： 1900\n",
            "1到 39 的整數和為： 1950\n",
            "1到 40 的整數和為： 2000\n",
            "1到 41 的整數和為： 2050\n",
            "1到 42 的整數和為： 2100\n",
            "1到 43 的整數和為： 2150\n",
            "1到 44 的整數和為： 2200\n",
            "1到 45 的整數和為： 2250\n",
            "1到 46 的整數和為： 2300\n",
            "1到 47 的整數和為： 2350\n",
            "1到 48 的整數和為： 2400\n",
            "1到 49 的整數和為： 2450\n",
            "1到 50 的整數和為： 2500\n"
          ]
        }
      ]
    },
    {
      "cell_type": "code",
      "source": [
        "for j in range(1,5):\n",
        "  print(j)\n",
        "  for i in range(1,3):\n",
        "    k=i*j\n",
        "    print(j,\"*\",\"=\",k)"
      ],
      "metadata": {
        "colab": {
          "base_uri": "https://localhost:8080/"
        },
        "id": "MLjUFotKzENk",
        "outputId": "8523ccf8-a096-4f68-ac4e-c0f9103949d4"
      },
      "execution_count": 8,
      "outputs": [
        {
          "output_type": "stream",
          "name": "stdout",
          "text": [
            "1\n",
            "1 * = 1\n",
            "1 * = 2\n",
            "2\n",
            "2 * = 2\n",
            "2 * = 4\n",
            "3\n",
            "3 * = 3\n",
            "3 * = 6\n",
            "4\n",
            "4 * = 4\n",
            "4 * = 8\n"
          ]
        }
      ]
    },
    {
      "cell_type": "code",
      "source": [
        "for i in range(1,5):\n",
        "  if(i==4):\n",
        "     break\n",
        "  print(i,end=\" \")"
      ],
      "metadata": {
        "colab": {
          "base_uri": "https://localhost:8080/"
        },
        "id": "EUfpGcYEzm5J",
        "outputId": "9269c2a5-4314-4d34-e346-6391c0540033"
      },
      "execution_count": 9,
      "outputs": [
        {
          "output_type": "stream",
          "name": "stdout",
          "text": [
            "1 2 3 "
          ]
        }
      ]
    },
    {
      "cell_type": "code",
      "source": [
        "count=0\n",
        "for string in 'hello':\n",
        "  count+=1\n",
        "  if string=='o':\n",
        "      break\n",
        "  print(string)\n",
        "print(\"迴圈結束\")\n",
        "print(\"迴圈執行了%d次\" %count)"
      ],
      "metadata": {
        "colab": {
          "base_uri": "https://localhost:8080/"
        },
        "id": "BnFjNLMrz9lW",
        "outputId": "970d4857-f375-4517-d9b9-3b40e2ce8f9c"
      },
      "execution_count": 2,
      "outputs": [
        {
          "output_type": "stream",
          "name": "stdout",
          "text": [
            "h\n",
            "e\n",
            "l\n",
            "l\n",
            "迴圈結束\n",
            "迴圈執行了5次\n"
          ]
        }
      ]
    },
    {
      "cell_type": "code",
      "source": [
        "count=0\n",
        "for string in '測試看看':\n",
        "    count+=1\n",
        "    if string=='看':\n",
        "        break\n",
        "    print(string)\n",
        "print(\"迴圈結束\")\n",
        "print(\"迴圈執行了%d次\"  %count)"
      ],
      "metadata": {
        "colab": {
          "base_uri": "https://localhost:8080/"
        },
        "id": "txg4MaUx0k2K",
        "outputId": "1e3c5a0e-50f4-4098-d093-24a1345be30c"
      },
      "execution_count": 10,
      "outputs": [
        {
          "output_type": "stream",
          "name": "stdout",
          "text": [
            "測\n",
            "試\n",
            "迴圈結束\n",
            "迴圈執行了3次\n"
          ]
        }
      ]
    },
    {
      "cell_type": "code",
      "source": [
        "for a in range(1,10):\n",
        "  for b in range(1,10):\n",
        "    c=a*b\n",
        "    print(a,\"x\",b,\"=\",c) "
      ],
      "metadata": {
        "colab": {
          "base_uri": "https://localhost:8080/"
        },
        "id": "MD9hREwx1iOV",
        "outputId": "6d71e9b0-582b-4754-d515-b6d26cfc6fa7"
      },
      "execution_count": 16,
      "outputs": [
        {
          "output_type": "stream",
          "name": "stdout",
          "text": [
            "1 x 1 = 1\n",
            "1 x 2 = 2\n",
            "1 x 3 = 3\n",
            "1 x 4 = 4\n",
            "1 x 5 = 5\n",
            "1 x 6 = 6\n",
            "1 x 7 = 7\n",
            "1 x 8 = 8\n",
            "1 x 9 = 9\n",
            "2 x 1 = 2\n",
            "2 x 2 = 4\n",
            "2 x 3 = 6\n",
            "2 x 4 = 8\n",
            "2 x 5 = 10\n",
            "2 x 6 = 12\n",
            "2 x 7 = 14\n",
            "2 x 8 = 16\n",
            "2 x 9 = 18\n",
            "3 x 1 = 3\n",
            "3 x 2 = 6\n",
            "3 x 3 = 9\n",
            "3 x 4 = 12\n",
            "3 x 5 = 15\n",
            "3 x 6 = 18\n",
            "3 x 7 = 21\n",
            "3 x 8 = 24\n",
            "3 x 9 = 27\n",
            "4 x 1 = 4\n",
            "4 x 2 = 8\n",
            "4 x 3 = 12\n",
            "4 x 4 = 16\n",
            "4 x 5 = 20\n",
            "4 x 6 = 24\n",
            "4 x 7 = 28\n",
            "4 x 8 = 32\n",
            "4 x 9 = 36\n",
            "5 x 1 = 5\n",
            "5 x 2 = 10\n",
            "5 x 3 = 15\n",
            "5 x 4 = 20\n",
            "5 x 5 = 25\n",
            "5 x 6 = 30\n",
            "5 x 7 = 35\n",
            "5 x 8 = 40\n",
            "5 x 9 = 45\n",
            "6 x 1 = 6\n",
            "6 x 2 = 12\n",
            "6 x 3 = 18\n",
            "6 x 4 = 24\n",
            "6 x 5 = 30\n",
            "6 x 6 = 36\n",
            "6 x 7 = 42\n",
            "6 x 8 = 48\n",
            "6 x 9 = 54\n",
            "7 x 1 = 7\n",
            "7 x 2 = 14\n",
            "7 x 3 = 21\n",
            "7 x 4 = 28\n",
            "7 x 5 = 35\n",
            "7 x 6 = 42\n",
            "7 x 7 = 49\n",
            "7 x 8 = 56\n",
            "7 x 9 = 63\n",
            "8 x 1 = 8\n",
            "8 x 2 = 16\n",
            "8 x 3 = 24\n",
            "8 x 4 = 32\n",
            "8 x 5 = 40\n",
            "8 x 6 = 48\n",
            "8 x 7 = 56\n",
            "8 x 8 = 64\n",
            "8 x 9 = 72\n",
            "9 x 1 = 9\n",
            "9 x 2 = 18\n",
            "9 x 3 = 27\n",
            "9 x 4 = 36\n",
            "9 x 5 = 45\n",
            "9 x 6 = 54\n",
            "9 x 7 = 63\n",
            "9 x 8 = 72\n",
            "9 x 9 = 81\n"
          ]
        }
      ]
    },
    {
      "cell_type": "code",
      "source": [
        "a = int(input(\"請輸入a的值：\"))\n",
        "b = int(input(\"請輸入b的值：\"))\n",
        "if a>b:\n",
        "    c=a\n",
        "else:\n",
        "    c=b\n",
        "m=(a+1) * (b+1)\n",
        "for k in range(c, m):\n",
        "    if k % a == 0 and k % b == 0:\n",
        "        print(a,\"和\",b,\"的最小公倍數＝\",k)\n",
        "        break"
      ],
      "metadata": {
        "colab": {
          "base_uri": "https://localhost:8080/"
        },
        "id": "1iU0hNGVEIz7",
        "outputId": "a23f8c9c-5fb8-4ee6-a295-0707e8c287b2"
      },
      "execution_count": 19,
      "outputs": [
        {
          "output_type": "stream",
          "name": "stdout",
          "text": [
            "請輸入a的值：4\n",
            "請輸入b的值：6\n",
            "4 和 6 的最小公倍數＝ 12\n"
          ]
        }
      ]
    },
    {
      "cell_type": "code",
      "source": [
        ""
      ],
      "metadata": {
        "id": "2eHG2ZM5FlkO"
      },
      "execution_count": null,
      "outputs": []
    }
  ]
}