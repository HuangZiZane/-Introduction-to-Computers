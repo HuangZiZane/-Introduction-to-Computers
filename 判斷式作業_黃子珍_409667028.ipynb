{
  "nbformat": 4,
  "nbformat_minor": 0,
  "metadata": {
    "colab": {
      "name": "判斷式作業 黃子珍 409667028.ipynb",
      "provenance": [],
      "authorship_tag": "ABX9TyM1jyJ+xCzR+nX5o4G7uBXn",
      "include_colab_link": true
    },
    "kernelspec": {
      "name": "python3",
      "display_name": "Python 3"
    },
    "language_info": {
      "name": "python"
    }
  },
  "cells": [
    {
      "cell_type": "markdown",
      "metadata": {
        "id": "view-in-github",
        "colab_type": "text"
      },
      "source": [
        "<a href=\"https://colab.research.google.com/github/HuangZiZane/-Introduction-to-Computers/blob/main/%E5%88%A4%E6%96%B7%E5%BC%8F%E4%BD%9C%E6%A5%AD_%E9%BB%83%E5%AD%90%E7%8F%8D_409667028.ipynb\" target=\"_parent\"><img src=\"https://colab.research.google.com/assets/colab-badge.svg\" alt=\"Open In Colab\"/></a>"
      ]
    },
    {
      "cell_type": "code",
      "execution_count": 13,
      "metadata": {
        "colab": {
          "base_uri": "https://localhost:8080/"
        },
        "id": "Z35tmaxN0yuX",
        "outputId": "3a023d0d-ff74-48f6-ec5c-37ad826a8838"
      },
      "outputs": [
        {
          "output_type": "stream",
          "name": "stdout",
          "text": [
            "請輸入金額：299\n",
            "消費者擁有的金額 299\n",
            "可購買平板\n"
          ]
        }
      ],
      "source": [
        "money=int(input(\"請輸入金額：\"))\n",
        "print(\"消費者擁有的金額\",money)\n",
        "a=100\n",
        "b=200\n",
        "c=300\n",
        "d=400\n",
        "if(money<a):\n",
        "    print(\"金額不足\")\n",
        "elif(money<b and money>a):\n",
        "  print(\"可購買手機\")\n",
        "elif(money<c and money>b):\n",
        "    print(\"可購買平板\")\n",
        "elif(money<d and money>c):\n",
        "    print(\"可購買電腦\")"
      ]
    },
    {
      "cell_type": "code",
      "source": [
        ""
      ],
      "metadata": {
        "id": "jm0SBuis2Tof"
      },
      "execution_count": 12,
      "outputs": []
    }
  ]
}